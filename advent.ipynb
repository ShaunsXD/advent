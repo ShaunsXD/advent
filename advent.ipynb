{
 "cells": [
  {
   "cell_type": "code",
   "execution_count": 1,
   "id": "9047c784",
   "metadata": {},
   "outputs": [],
   "source": [
    "import numpy as np\n",
    "import pandas as pd\n",
    "\n",
    "def textToArr(filename):\n",
    "    arr = []\n",
    "    with open(filename, \"r\") as file:\n",
    "        line = []\n",
    "        for text in file:\n",
    "            arr.append(text.strip().split())\n",
    "    return arr"
   ]
  },
  {
   "cell_type": "code",
   "execution_count": 2,
   "id": "67f51ee9",
   "metadata": {},
   "outputs": [
    {
     "name": "stdout",
     "output_type": "stream",
     "text": [
      "3714264\n"
     ]
    }
   ],
   "source": [
    "left = []\n",
    "right = []\n",
    "\n",
    "arr = textToArr(\"1.txt\")\n",
    "for line in arr:\n",
    "    left.append(int(line[0]))\n",
    "    right.append(int(line[1]))\n",
    "    \n",
    "#sort arrs to match lowest with lowest\n",
    "left.sort()\n",
    "right.sort()\n",
    "sums = 0\n",
    "for i in range(len(left)):\n",
    "    sums += abs(left[i] - right[i])\n",
    "\n",
    "print(sums)"
   ]
  },
  {
   "cell_type": "code",
   "execution_count": 3,
   "id": "79bcbe49",
   "metadata": {},
   "outputs": [
    {
     "name": "stdout",
     "output_type": "stream",
     "text": [
      "18805872\n"
     ]
    }
   ],
   "source": [
    "right_dict = {}\n",
    "\n",
    "#populate right dict with # of occurences\n",
    "for val in right:\n",
    "    if val not in right_dict:\n",
    "        right_dict[val] = 0\n",
    "    right_dict[val] += 1\n",
    "\n",
    "sim_score = 0    \n",
    "#check all vals in left and multiply by occurences in right\n",
    "for val in left:\n",
    "    temp = 0\n",
    "    if val in right_dict:\n",
    "        temp = val * right_dict[val]\n",
    "    sim_score += temp\n",
    "\n",
    "print(sim_score)"
   ]
  },
  {
   "cell_type": "code",
   "execution_count": 4,
   "id": "7b448124",
   "metadata": {},
   "outputs": [
    {
     "name": "stdout",
     "output_type": "stream",
     "text": [
      "606\n"
     ]
    }
   ],
   "source": [
    "def getDifferences(level):\n",
    "    differences = []\n",
    "    for i in range(len(level) - 1):\n",
    "        differences.append(level[i + 1] - level[i])\n",
    "    return differences\n",
    "\n",
    "def positive(differences):\n",
    "    return all(val > 0 for val in differences)\n",
    "\n",
    "def negative(differences):\n",
    "    return all(val < 0 for val in differences)\n",
    "\n",
    "def steps(differences):\n",
    "    return all(1 <= val <= 3 for val in differences)\n",
    "    \n",
    "def safeLevel(differences):\n",
    "    if positive(differences) or negative(differences):\n",
    "        differences = [abs(val) for val in differences]\n",
    "        if steps(differences):\n",
    "            return True\n",
    "    return False\n",
    "\n",
    "\n",
    "safe = 0\n",
    "arr = textToArr(\"2.txt\")\n",
    "#go level by level\n",
    "#get differences between elements\n",
    "#check if all inc or dec\n",
    "#check if valid step length\n",
    "for line in arr:\n",
    "    level = []\n",
    "    for val in line:\n",
    "        level.append(int(val))\n",
    "\n",
    "    if safeLevel(getDifferences(level)):\n",
    "        safe += 1\n",
    "        \n",
    "print(safe)"
   ]
  },
  {
   "cell_type": "code",
   "execution_count": 5,
   "id": "4a655f35",
   "metadata": {},
   "outputs": [
    {
     "name": "stdout",
     "output_type": "stream",
     "text": [
      "644\n"
     ]
    }
   ],
   "source": [
    "safe = 0\n",
    "for line in arr:\n",
    "    dampen = True\n",
    "    level = []\n",
    "    for val in line:\n",
    "        level.append(int(val))\n",
    "\n",
    "    if safeLevel(getDifferences(level)):\n",
    "        safe += 1\n",
    "        dampen = False #unsafe level, try to remove 1 element until safe\n",
    "\n",
    "    #same logic as pt. 1\n",
    "    if dampen:\n",
    "        damp_level = []\n",
    "        for i in range(len(level)):\n",
    "            #list comprehension to get new level without each index\n",
    "            damp_level = [x for j, x in enumerate(level) if j != i]\n",
    "            if safeLevel(getDifferences(damp_level)):\n",
    "                safe += 1\n",
    "                break\n",
    "            \n",
    "print(safe)"
   ]
  },
  {
   "cell_type": "code",
   "execution_count": 6,
   "id": "f0d08731",
   "metadata": {},
   "outputs": [
    {
     "name": "stdout",
     "output_type": "stream",
     "text": [
      "173529487\n"
     ]
    }
   ],
   "source": [
    "sums = 0\n",
    "with open(\"3.txt\", \"r\") as file:\n",
    "    text = file.read()\n",
    "\n",
    "#split on mul\n",
    "#check for ( and )\n",
    "#check for ,\n",
    "#try to str --> int\n",
    "#multiply if all is valid\n",
    "def doMul(text):\n",
    "    sums = 0\n",
    "    splits = text.split(\"mul\")\n",
    "    for string in splits:\n",
    "        if string[0] == \"(\":\n",
    "            end_idx = string.find(\")\")\n",
    "            if end_idx != -1:\n",
    "                valid = True\n",
    "                comma_idx = string.find(\",\")\n",
    "                a = string[1:comma_idx]\n",
    "                b = string[comma_idx + 1:end_idx]\n",
    "                \n",
    "                try:\n",
    "                    val_a = int(a)\n",
    "                    val_b = int(b)\n",
    "                except:\n",
    "                    valid = False\n",
    "                    \n",
    "                if valid:\n",
    "                    sums += val_a * val_b\n",
    "    return sums\n",
    "\n",
    "print(doMul(text))"
   ]
  },
  {
   "cell_type": "code",
   "execution_count": 7,
   "id": "2e494a6d",
   "metadata": {},
   "outputs": [
    {
     "name": "stdout",
     "output_type": "stream",
     "text": [
      "99532691\n"
     ]
    }
   ],
   "source": [
    "with open(\"3.txt\", \"r\") as file:\n",
    "    text = file.read()\n",
    "\n",
    "#find idx of first substring occurence\n",
    "#add idx to list, skip to end of substring, loop\n",
    "def findAll(string, sub):\n",
    "    i = 0\n",
    "    idx = []\n",
    "    while i < len(string):\n",
    "        i = string.find(sub, i)\n",
    "        if i == -1: #no more substrings found so just return\n",
    "            return idx\n",
    "        idx.append(i)\n",
    "        i += len(sub)\n",
    "    return idx\n",
    "        \n",
    "#all idx of do() and don't()\n",
    "do_idx = findAll(text, \"do()\")\n",
    "dont_idx = findAll(text, \"don't()\")\n",
    "\n",
    "flag_do = True\n",
    "flag_dont = False\n",
    "text_modified = \"\"\n",
    "\n",
    "#check if current char is the start of a do() or don't()\n",
    "#update flags for which region we're in\n",
    "#if in a do() region, then append it to the modified text\n",
    "for i in range(len(text)):\n",
    "    if i in do_idx:\n",
    "        flag_do, flag_dont = True, False\n",
    "    elif i in dont_idx:\n",
    "        flag_dont, flag_do = True, False\n",
    "    \n",
    "    if flag_do:\n",
    "        text_modified += text[i]\n",
    "        \n",
    "print(doMul(text_modified))"
   ]
  },
  {
   "cell_type": "code",
   "execution_count": 8,
   "id": "de32980a",
   "metadata": {},
   "outputs": [
    {
     "name": "stdout",
     "output_type": "stream",
     "text": [
      "26443\n"
     ]
    }
   ],
   "source": [
    "#2023 day 4\n",
    "total = 0\n",
    "text = textToArr(\"2023.txt\")\n",
    "#go line by line (card by card) in text\n",
    "#split into left (winning) and right (card nums)\n",
    "for line in text:\n",
    "    winning = []\n",
    "    nums = []\n",
    "    left = True\n",
    "    count = 0\n",
    "    for val in line:\n",
    "        if val == \"|\": #reached halfway point, next numbers are right arr (nums)\n",
    "            left = False \n",
    "        try:\n",
    "            if left:\n",
    "                winning.append(int(val))\n",
    "            else:\n",
    "                nums.append(int(val))\n",
    "        except:\n",
    "            continue\n",
    "    #count how many card nums are in winning\n",
    "    for num in nums:\n",
    "        if num in winning:\n",
    "            count += 1\n",
    "    if count > 0:\n",
    "        #get total score\n",
    "        total += 2 ** (count - 1)\n",
    "        \n",
    "print(total)"
   ]
  },
  {
   "cell_type": "code",
   "execution_count": 12,
   "id": "9bc4d5d2",
   "metadata": {},
   "outputs": [
    {
     "name": "stdout",
     "output_type": "stream",
     "text": [
      "6284877\n"
     ]
    }
   ],
   "source": [
    "text = textToArr(\"2023.txt\")\n",
    "#default dict of all cards default 0 dupes\n",
    "cards_dict = dict.fromkeys([i for i in range(len(text))], 0)\n",
    "\n",
    "#go line by line (card by card) in text\n",
    "#split into left (winning) and right (card nums)\n",
    "for i in range(len(text)):\n",
    "    line = text[i]\n",
    "    winning = []\n",
    "    nums = []\n",
    "    left = True\n",
    "    count = 0\n",
    "    for val in line:\n",
    "        if val == \"|\":\n",
    "            left = False\n",
    "        try:\n",
    "            if left:\n",
    "                winning.append(int(val))\n",
    "            else:\n",
    "                nums.append(int(val))\n",
    "        except:\n",
    "            continue\n",
    "            \n",
    "    for num in nums:\n",
    "        if num in winning:\n",
    "            count += 1\n",
    "\n",
    "    #if winning card found, then add n (count + dupes) to count # of cards\n",
    "    if count > 0:\n",
    "        dupes = cards_dict[i]\n",
    "        \n",
    "        for j in range(count):\n",
    "            try: #make sure card # is valid\n",
    "                cards_dict[i + j + 1] += 1 + (1 * dupes)\n",
    "            except:\n",
    "                break\n",
    "val = list(cards_dict.values())\n",
    "\n",
    "#ans is sum of all dupes + each original card\n",
    "print(sum(val) + len(text))"
   ]
  },
  {
   "cell_type": "code",
   "execution_count": 10,
   "id": "14f05550-378c-4fb2-a85e-c5e1334f0111",
   "metadata": {},
   "outputs": [
    {
     "name": "stdout",
     "output_type": "stream",
     "text": [
      "2390\n"
     ]
    }
   ],
   "source": [
    "#same func for substrings in string, but let index increment by 1 instead\n",
    "#will find overlapping substrings instead of skipping over the substring\n",
    "\n",
    "def findAllOverlap(string, sub):\n",
    "    i = 0\n",
    "    idx = []\n",
    "    while i < len(string):\n",
    "        i = string.find(sub, i)\n",
    "        if i == -1:\n",
    "            return idx\n",
    "        idx.append(i)\n",
    "        i += 1\n",
    "    return idx\n",
    "\n",
    "#count all Xmas in a given line, forwards and backwards\n",
    "def countXmas(line):\n",
    "    count = 0\n",
    "    line = \"\".join(line)\n",
    "    count += len(findAllOverlap(line, \"XMAS\"))\n",
    "    count += len(findAllOverlap(line[::-1], \"XMAS\"))\n",
    "    return count\n",
    "\n",
    "#function for diag traversal of 2d matrix\n",
    "#https://www.geeksforgeeks.org/zigzag-or-diagonal-traversal-of-matrix/\n",
    "def diagonalize(text):\n",
    "    diag = []\n",
    "    for line in range(1, (len(text) + len(text[0]))):\n",
    "        temp = []\n",
    "        start_col = max(0, line - len(text))\n",
    "        counts = min(line, (len(text[0]) - start_col), len(text))\n",
    "        for j in range(0, counts):\n",
    "            temp.append(text[min(len(text), line) - j - 1][start_col + j]) \n",
    "        diag.append(temp)\n",
    "    return diag\n",
    "\n",
    "count = 0\n",
    "\n",
    "#want each char in text to be its own element to form nxn matrix\n",
    "text = []\n",
    "with open(\"4.txt\", \"r\") as file:\n",
    "    for row in file:\n",
    "        temp = []\n",
    "        row = row.strip()\n",
    "        for char in str(row):\n",
    "            temp.append(char)\n",
    "        text.append(temp)\n",
    "\n",
    "#need to search 4 ways, rows, cols, top left diag, top right diag\n",
    "\n",
    "#row search\n",
    "for row in text:\n",
    "    count += countXmas(row)   \n",
    "\n",
    "#transpose matrix, then col search\n",
    "cols = [[text[r][c] for r in range(len(text))] for c in range(len(text[0]))]\n",
    "for col in cols:\n",
    "    count += countXmas(col)\n",
    "\n",
    "#top left diag, then diag search\n",
    "diag1 = diagonalize(text)\n",
    "for diag in diag1:\n",
    "    count += countXmas(diag)\n",
    "\n",
    "#reverse matrix for top right diag, then diag search\n",
    "text2 = [row[::-1] for row in text]\n",
    "diag2 = diagonalize(text2)\n",
    "\n",
    "for diag in diag2:\n",
    "    count += countXmas(diag)\n",
    "\n",
    "print(count)"
   ]
  },
  {
   "cell_type": "code",
   "execution_count": 11,
   "id": "ab6a731e-523d-40d2-9e04-ceb60c00acd6",
   "metadata": {},
   "outputs": [
    {
     "name": "stdout",
     "output_type": "stream",
     "text": [
      "1809\n"
     ]
    }
   ],
   "source": [
    "#same func as above but for \"mas\" substring\n",
    "def countMas(line):\n",
    "    count = 0\n",
    "    line = \"\".join(line)\n",
    "    count += len(findAllOverlap(line, \"MAS\"))\n",
    "    count += len(findAllOverlap(line[::-1], \"MAS\"))\n",
    "    return count\n",
    "\n",
    "count = 0\n",
    "\n",
    "text = []\n",
    "with open(\"4.txt\", \"r\") as file:\n",
    "    for row in file:\n",
    "        temp = []\n",
    "        row = row.strip()\n",
    "        for char in str(row):\n",
    "            temp.append(char)\n",
    "        text.append(temp)\n",
    "\n",
    "# M.S\n",
    "# .A.\n",
    "# M.S\n",
    "\n",
    "#since diags share \"A\" in the center, search for \"A\"\n",
    "#if \"A\" found, get both diag strings\n",
    "#if both return a count for \"MAS\" then we have a match\n",
    "for r in range(len(text)):\n",
    "    for c in range(len(text[0])):\n",
    "        char = text[r][c]\n",
    "        if char == \"A\":\n",
    "            try:\n",
    "                diag1 = text[r - 1][c - 1] + char + text[r + 1][c + 1]\n",
    "                diag2 = text[r + 1][c - 1] + char + text[r - 1][c + 1]\n",
    "                if countMas(diag1) and countMas(diag2):\n",
    "                    count += 1\n",
    "            except:\n",
    "                continue\n",
    "print(count)"
   ]
  },
  {
   "cell_type": "code",
   "execution_count": 101,
   "id": "4cf37831-483d-43f6-822e-212574072095",
   "metadata": {},
   "outputs": [
    {
     "name": "stdout",
     "output_type": "stream",
     "text": [
      "4462\n"
     ]
    }
   ],
   "source": [
    "sum = 0\n",
    "rules = []\n",
    "first = []\n",
    "second = []\n",
    "#get rules in form of [a, b]\n",
    "with open(\"5_rules.txt\", \"r\") as file:\n",
    "    for line in file:\n",
    "        line = line.strip()\n",
    "        divide_idx = line.find(\"|\")\n",
    "        a = int(line[0:divide_idx])\n",
    "        b = int(line[divide_idx + 1:])\n",
    "        rules.append([a, b])\n",
    "        first.append(a)\n",
    "        second.append(b)\n",
    "\n",
    "#get pages to be examined\n",
    "prints = []\n",
    "with open(\"5_print.txt\", \"r\") as file:\n",
    "    for line in file:\n",
    "        line = line.strip()\n",
    "        line = line.split(\",\")\n",
    "        prints.append([int(val) for val in line])\n",
    "\n",
    "#check if page is valid\n",
    "#bubble sort and go through each pair of numbers\n",
    "#check if the pair is a valid rule in rules\n",
    "#if valid pair, move on to the next pair\n",
    "#if not valid pair, then return false\n",
    "def isValid(page):\n",
    "    valid = True\n",
    "    for i in range(len(page)):\n",
    "        for j in range(i + 1, len(page)):\n",
    "            rule = [page[i], page[j]]\n",
    "            if page[j] in second:\n",
    "                if rule not in rules:\n",
    "                    valid = False\n",
    "            elif [page[j], page[i]] in rules:\n",
    "                valid = False\n",
    "    return valid\n",
    "\n",
    "for page in prints:\n",
    "    print(isValid(page))\n",
    "    if isValid(page): #sum the middle index of only valid pages\n",
    "        sum += page[len(page) // 2]\n",
    "\n",
    "print(sum)"
   ]
  },
  {
   "cell_type": "code",
   "execution_count": 104,
   "id": "4e23bbb9-5d7f-4006-80c2-5518cf2eeefe",
   "metadata": {},
   "outputs": [
    {
     "name": "stdout",
     "output_type": "stream",
     "text": [
      "6767\n"
     ]
    }
   ],
   "source": [
    "sum = 0\n",
    "rules = []\n",
    "first = []\n",
    "second = []\n",
    "with open(\"5_rules.txt\", \"r\") as file:\n",
    "    for line in file:\n",
    "        line = line.strip()\n",
    "        divide_idx = line.find(\"|\")\n",
    "        a = int(line[0:divide_idx])\n",
    "        b = int(line[divide_idx + 1:])\n",
    "        rules.append([a, b])\n",
    "        first.append(a)\n",
    "        second.append(b)\n",
    "        \n",
    "prints = []\n",
    "with open(\"5_print.txt\", \"r\") as file:\n",
    "    for line in file:\n",
    "        line = line.strip()\n",
    "        line = line.split(\",\")\n",
    "        prints.append([int(val) for val in line])\n",
    "\n",
    "for page in prints:\n",
    "    if not isValid(page): #find invalid pages\n",
    "        #bubble sort invalid pairs so they are valid\n",
    "        for i in range(len(page)):\n",
    "            for j in range(i + 1, len(page)):\n",
    "                if [page[j], page[i]] in rules:\n",
    "                    page[j], page[i] = page[i], page[j]\n",
    "        sum += page[len(page) // 2]\n",
    "\n",
    "print(sum)"
   ]
  },
  {
   "cell_type": "code",
   "execution_count": null,
   "id": "289f9338-f5a3-4d15-b773-23a6a06f8b90",
   "metadata": {},
   "outputs": [],
   "source": []
  }
 ],
 "metadata": {
  "kernelspec": {
   "display_name": "Python 3 (ipykernel)",
   "language": "python",
   "name": "python3"
  },
  "language_info": {
   "codemirror_mode": {
    "name": "ipython",
    "version": 3
   },
   "file_extension": ".py",
   "mimetype": "text/x-python",
   "name": "python",
   "nbconvert_exporter": "python",
   "pygments_lexer": "ipython3",
   "version": "3.9.13"
  }
 },
 "nbformat": 4,
 "nbformat_minor": 5
}
